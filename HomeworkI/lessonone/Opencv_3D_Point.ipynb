{
 "cells": [
  {
   "cell_type": "code",
   "execution_count": null,
   "id": "published-scratch",
   "metadata": {},
   "outputs": [],
   "source": []
  },
  {
   "cell_type": "code",
   "execution_count": 1,
   "id": "caroline-masters",
   "metadata": {},
   "outputs": [],
   "source": [
    "import open3d as o3d \n",
    "import os\n",
    "import numpy as np\n",
    "from pyntcloud import PyntCloud"
   ]
  },
  {
   "cell_type": "code",
   "execution_count": 2,
   "id": "eight-collective",
   "metadata": {},
   "outputs": [],
   "source": [
    "# 加载原始点云\n",
    "filename = \"/Users/linear/Documents/GitFile/3D_Ponit_py/HomeworkI/data/person/person_0001.txt\"\n",
    "point_cloud_pynt = PyntCloud.from_file(filename,  names=['x','y','z','nx','ny','nz'])"
   ]
  },
  {
   "cell_type": "code",
   "execution_count": 3,
   "id": "expected-cemetery",
   "metadata": {},
   "outputs": [],
   "source": [
    "point_cloud_o3d = point_cloud_pynt.to_instance(\"open3d\", mesh=False)"
   ]
  },
  {
   "cell_type": "code",
   "execution_count": 4,
   "id": "forward-microwave",
   "metadata": {},
   "outputs": [
    {
     "name": "stdout",
     "output_type": "stream",
     "text": [
      "total points number is: 10000\n"
     ]
    }
   ],
   "source": [
    "points = point_cloud_pynt.points\n",
    "print('total points number is:', points.shape[0])\n"
   ]
  },
  {
   "cell_type": "code",
   "execution_count": 8,
   "id": "japanese-onion",
   "metadata": {},
   "outputs": [],
   "source": [
    "o3d.visualization.draw_geometries([point_cloud_o3d])\n",
    "    "
   ]
  },
  {
   "cell_type": "code",
   "execution_count": 5,
   "id": "breathing-handy",
   "metadata": {},
   "outputs": [
    {
     "name": "stdout",
     "output_type": "stream",
     "text": [
      "(10000, 6)\n"
     ]
    }
   ],
   "source": [
    "print(points.shape)"
   ]
  },
  {
   "cell_type": "code",
   "execution_count": 14,
   "id": "settled-frank",
   "metadata": {},
   "outputs": [
    {
     "name": "stdout",
     "output_type": "stream",
     "text": [
      "          x        y       z       nx      ny      nz\n",
      "0  0.118000  0.42930 -0.8402  0.18030 -0.5160  0.8374\n",
      "1 -0.121700 -0.46300  0.8715 -0.03365 -0.9639  0.2640\n",
      "2 -0.010960  0.55340  0.4630 -0.55130  0.7699 -0.3214\n",
      "3 -0.003396  0.18260 -0.1696 -0.69870 -0.6574 -0.2821\n",
      "4  0.101800 -0.06934  0.4095  0.43510 -0.5821 -0.6869\n"
     ]
    }
   ],
   "source": [
    "print(points.head(5))"
   ]
  },
  {
   "cell_type": "code",
   "execution_count": null,
   "id": "native-cattle",
   "metadata": {},
   "outputs": [],
   "source": []
  }
 ],
 "metadata": {
  "kernelspec": {
   "display_name": "cloud_lesson",
   "language": "python",
   "name": "cloud_lesson"
  },
  "language_info": {
   "codemirror_mode": {
    "name": "ipython",
    "version": 3
   },
   "file_extension": ".py",
   "mimetype": "text/x-python",
   "name": "python",
   "nbconvert_exporter": "python",
   "pygments_lexer": "ipython3",
   "version": "3.6.10"
  }
 },
 "nbformat": 4,
 "nbformat_minor": 5
}
