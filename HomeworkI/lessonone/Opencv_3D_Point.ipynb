{
 "cells": [
  {
   "cell_type": "code",
   "execution_count": null,
   "id": "published-scratch",
   "metadata": {},
   "outputs": [],
   "source": []
  },
  {
   "cell_type": "code",
   "execution_count": 1,
   "id": "caroline-masters",
   "metadata": {},
   "outputs": [],
   "source": [
    "import open3d as o3d \n",
    "import os\n",
    "import numpy as np\n",
    "from pyntcloud import PyntCloud"
   ]
  },
  {
   "cell_type": "code",
   "execution_count": 2,
   "id": "eight-collective",
   "metadata": {},
   "outputs": [],
   "source": [
    "# 加载原始点云\n",
    "filename = \"/Users/linear/Documents/GitFile/3D_Ponit_py/HomeworkI/data/person/person_0001.txt\"\n",
    "point_cloud_pynt = PyntCloud.from_file(filename,  names=['x','y','z','nx','ny','nz'])"
   ]
  },
  {
   "cell_type": "code",
   "execution_count": 3,
   "id": "expected-cemetery",
   "metadata": {},
   "outputs": [],
   "source": [
    "point_cloud_o3d = point_cloud_pynt.to_instance(\"open3d\", mesh=False)"
   ]
  },
  {
   "cell_type": "code",
   "execution_count": 4,
   "id": "forward-microwave",
   "metadata": {},
   "outputs": [
    {
     "name": "stdout",
     "output_type": "stream",
     "text": [
      "total points number is: 10000\n"
     ]
    }
   ],
   "source": [
    "points = point_cloud_pynt.points\n",
    "print('total points number is:', points.shape[0])\n"
   ]
  },
  {
   "cell_type": "code",
   "execution_count": 8,
   "id": "japanese-onion",
   "metadata": {},
   "outputs": [],
   "source": [
    "o3d.visualization.draw_geometries([point_cloud_o3d])\n",
    "    "
   ]
  },
  {
   "cell_type": "code",
   "execution_count": 15,
   "id": "breathing-handy",
   "metadata": {},
   "outputs": [],
   "source": [
    "def PCA(data, correlation=False, sort=True):\n",
    "    # 作业1\n",
    "    # 屏蔽开始\n",
    "    # 获取 data的shape大小\n",
    "    m, n = np.shape(data)   \n",
    "    # 获取数据的平均值\n",
    "    average = np.mean(data, axis=0)\n",
    "    # 数据中心化处理， 标准化处理\n",
    "    data_adjust = data- average\n",
    "    # 得到协方差\n",
    "    if correlation == False:\n",
    "        conX = np.cov(data_adjust.T)\n",
    "        eigenvalues, eigenvectors =  np.linalg.eig(conX)\n",
    "    else:\n",
    "        conX = np.corrcoef(data_adjust.T)\n",
    "        eigenvalues, eigenvectors =  np.linalg.eig(conX)\n",
    "    # 屏蔽结束\n",
    "\n",
    "    if sort:\n",
    "        sort = eigenvalues.argsort()[::-1]\n",
    "        eigenvalues = eigenvalues[sort]\n",
    "        eigenvectors = eigenvectors[:, sort]\n",
    "\n",
    "    return eigenvalues, eigenvectors\n"
   ]
  },
  {
   "cell_type": "code",
   "execution_count": 16,
   "id": "stupid-secondary",
   "metadata": {},
   "outputs": [],
   "source": [
    "w, v = PCA(points)"
   ]
  },
  {
   "cell_type": "code",
   "execution_count": 17,
   "id": "requested-invention",
   "metadata": {},
   "outputs": [
    {
     "name": "stdout",
     "output_type": "stream",
     "text": [
      "[0.40567672 0.38227612 0.22172386 0.21220532 0.05350442 0.0088583 ]\n"
     ]
    }
   ],
   "source": [
    "print(w)"
   ]
  },
  {
   "cell_type": "code",
   "execution_count": 28,
   "id": "wooden-affiliate",
   "metadata": {},
   "outputs": [
    {
     "data": {
      "text/plain": [
       "(array([[ 0.01993779, -0.00214676,  0.04730301,  0.01094986,  0.03086858,\n",
       "         -0.99814204]]),\n",
       " array([[ 0.01993779, -0.00214676,  0.04730301,  0.01094986,  0.03086858,\n",
       "         -0.99814204],\n",
       "        [ 0.01078973, -0.00501991,  0.35924636,  0.03972812, -0.93225422,\n",
       "         -0.01114372]]))"
      ]
     },
     "execution_count": 28,
     "metadata": {},
     "output_type": "execute_result"
    }
   ],
   "source": [
    "main_vector1 = v[:1]\n",
    "main_vector2 = v[:2]\n",
    "main_vector1, main_vector2"
   ]
  },
  {
   "cell_type": "code",
   "execution_count": null,
   "id": "banned-sunglasses",
   "metadata": {},
   "outputs": [],
   "source": []
  },
  {
   "cell_type": "code",
   "execution_count": 22,
   "id": "cellular-kelly",
   "metadata": {},
   "outputs": [],
   "source": [
    "point_cloud_vector = v[:, 2]"
   ]
  },
  {
   "cell_type": "code",
   "execution_count": 23,
   "id": "orange-symphony",
   "metadata": {},
   "outputs": [
    {
     "name": "stdout",
     "output_type": "stream",
     "text": [
      "the main orientation of this pointcloud is:  [ 0.04730301  0.35924636 -0.91016222 -0.03135405  0.19781617 -0.01396043]\n"
     ]
    }
   ],
   "source": [
    "print('the main orientation of this pointcloud is: ', point_cloud_vector)"
   ]
  },
  {
   "cell_type": "code",
   "execution_count": 24,
   "id": "proprietary-washington",
   "metadata": {},
   "outputs": [],
   "source": [
    "pcd_tree = o3d.geometry.KDTreeFlann(point_cloud_o3d)"
   ]
  },
  {
   "cell_type": "code",
   "execution_count": 27,
   "id": "outer-teens",
   "metadata": {},
   "outputs": [
    {
     "data": {
      "text/plain": [
       "open3d.cpu.pybind.geometry.KDTreeFlann"
      ]
     },
     "execution_count": 27,
     "metadata": {},
     "output_type": "execute_result"
    }
   ],
   "source": [
    "type(pcd_tree)"
   ]
  },
  {
   "cell_type": "code",
   "execution_count": 30,
   "id": "verified-logistics",
   "metadata": {},
   "outputs": [
    {
     "ename": "ValueError",
     "evalue": "shapes (3,) and (6,1) not aligned: 3 (dim 0) != 6 (dim 0)",
     "output_type": "error",
     "traceback": [
      "\u001b[0;31m--------------------------------------------------------------------------\u001b[0m",
      "\u001b[0;31mValueError\u001b[0m                               Traceback (most recent call last)",
      "\u001b[0;32m<ipython-input-30-ad67945bc0db>\u001b[0m in \u001b[0;36m<module>\u001b[0;34m\u001b[0m\n\u001b[1;32m      6\u001b[0m \u001b[0;32mfor\u001b[0m \u001b[0mi\u001b[0m \u001b[0;32min\u001b[0m \u001b[0mrange\u001b[0m\u001b[0;34m(\u001b[0m\u001b[0mpoints\u001b[0m\u001b[0;34m.\u001b[0m\u001b[0mshape\u001b[0m\u001b[0;34m[\u001b[0m\u001b[0;36m0\u001b[0m\u001b[0;34m]\u001b[0m\u001b[0;34m)\u001b[0m\u001b[0;34m:\u001b[0m\u001b[0;34m\u001b[0m\u001b[0;34m\u001b[0m\u001b[0m\n\u001b[1;32m      7\u001b[0m     \u001b[0mxyz\u001b[0m \u001b[0;34m=\u001b[0m \u001b[0mpoints\u001b[0m\u001b[0;34m.\u001b[0m\u001b[0mvalues\u001b[0m\u001b[0;34m[\u001b[0m\u001b[0mi\u001b[0m\u001b[0;34m]\u001b[0m\u001b[0;34m[\u001b[0m\u001b[0;36m0\u001b[0m\u001b[0;34m:\u001b[0m\u001b[0;36m3\u001b[0m\u001b[0;34m]\u001b[0m\u001b[0;34m\u001b[0m\u001b[0;34m\u001b[0m\u001b[0m\n\u001b[0;32m----> 8\u001b[0;31m     \u001b[0mxyz_new\u001b[0m \u001b[0;34m=\u001b[0m \u001b[0mnp\u001b[0m\u001b[0;34m.\u001b[0m\u001b[0mdot\u001b[0m\u001b[0;34m(\u001b[0m\u001b[0mxyz\u001b[0m\u001b[0;34m,\u001b[0m \u001b[0mmain_vector1\u001b[0m\u001b[0;34m.\u001b[0m\u001b[0mT\u001b[0m\u001b[0;34m)\u001b[0m\u001b[0;34m*\u001b[0m\u001b[0mmain_vector1\u001b[0m\u001b[0;34m\u001b[0m\u001b[0;34m\u001b[0m\u001b[0m\n\u001b[0m\u001b[1;32m      9\u001b[0m     \u001b[0mnormals\u001b[0m\u001b[0;34m.\u001b[0m\u001b[0mappend\u001b[0m\u001b[0;34m(\u001b[0m\u001b[0mxyz_new\u001b[0m\u001b[0;34m)\u001b[0m\u001b[0;34m\u001b[0m\u001b[0;34m\u001b[0m\u001b[0m\n\u001b[1;32m     10\u001b[0m     \u001b[0;31m# point_cloud_o3d.points.values[i][0:3] = xyz_new\u001b[0m\u001b[0;34m\u001b[0m\u001b[0;34m\u001b[0m\u001b[0;34m\u001b[0m\u001b[0m\n",
      "\u001b[0;32m<__array_function__ internals>\u001b[0m in \u001b[0;36mdot\u001b[0;34m(*args, **kwargs)\u001b[0m\n",
      "\u001b[0;31mValueError\u001b[0m: shapes (3,) and (6,1) not aligned: 3 (dim 0) != 6 (dim 0)"
     ]
    }
   ],
   "source": [
    "# 循环计算每个点的法向量\n",
    "pcd_tree = o3d.geometry.KDTreeFlann(point_cloud_o3d)\n",
    "normals = []\n",
    "# 作业2\n",
    "# 屏蔽开始\n",
    "for i in range(points.shape[0]):\n",
    "    xyz = points.values[i][0:3]\n",
    "    xyz_new = np.dot(xyz, main_vector1)*main_vector1\n",
    "    normals.append(xyz_new)\n",
    "    # point_cloud_o3d.points.values[i][0:3] = xyz_new\n",
    "# 由于最近邻搜索是第二章的内容，所以此处允许直接调用open3d中的函数\n",
    "\n"
   ]
  },
  {
   "cell_type": "code",
   "execution_count": null,
   "id": "seven-rover",
   "metadata": {},
   "outputs": [],
   "source": [
    "# 屏蔽结束\n",
    "normals = np.array(normals, dtype=np.float64)\n",
    "# TODO: 此处把法向量存放在了normals中\n",
    "point_cloud_o3d.normals = o3d.utility.Vector3dVector(normals)\n",
    "o3d.visualization.draw_geometries([point_cloud_o3d])"
   ]
  }
 ],
 "metadata": {
  "kernelspec": {
   "display_name": "cloud_lesson",
   "language": "python",
   "name": "cloud_lesson"
  },
  "language_info": {
   "codemirror_mode": {
    "name": "ipython",
    "version": 3
   },
   "file_extension": ".py",
   "mimetype": "text/x-python",
   "name": "python",
   "nbconvert_exporter": "python",
   "pygments_lexer": "ipython3",
   "version": "3.6.10"
  }
 },
 "nbformat": 4,
 "nbformat_minor": 5
}
